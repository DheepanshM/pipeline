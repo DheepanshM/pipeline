{
 "cells": [
  {
   "cell_type": "markdown",
   "id": "fd7e87ac",
   "metadata": {},
   "source": [
    "import the required libraries "
   ]
  },
  {
   "cell_type": "code",
   "execution_count": null,
   "id": "c36b1cd2",
   "metadata": {},
   "outputs": [],
   "source": [
    "import pypyodbc as odbc\n",
    "import pandas as pd\n",
    "from sqlalchemy import create_engine\n",
    "import urllib"
   ]
  },
  {
   "cell_type": "markdown",
   "id": "89a6a793",
   "metadata": {},
   "source": [
    "connect and loading to the server"
   ]
  },
  {
   "cell_type": "code",
   "execution_count": null,
   "id": "b4eb0038",
   "metadata": {},
   "outputs": [],
   "source": [
    "DRIVER_NAME='ODBC Driver 17 for SQL Server'\n",
    "SERVER_NAME='DESKTOP-VRHL0RA\\MSSQLSERVER1'\n",
    "DATABASE_NAME='Customers'\n",
    "username='sa'\n",
    "password='Dheepansh@2810'\n",
    "\n",
    "# connection_string=f\"\"\" \n",
    "# DRIVER={{{DRIVER_NAME}}};\n",
    "# SERVER={SERVER_NAME};\n",
    "# DATABASE={DATABASE_NAME};\n",
    "# uid={username};\n",
    "# pwd={password};\n",
    "# Trust_Connection=yes;\n",
    "# \"\"\"\n",
    "# conn=odbc.connect(connection_string)\n",
    "# print(conn)\n",
    "# Encode parameters for SQLAlchemy\n",
    "params = urllib.parse.quote_plus(\n",
    "    f\"DRIVER={{{DRIVER_NAME}}};SERVER={SERVER_NAME};DATABASE={DATABASE_NAME};UID={username};PWD={password}\"\n",
    ")\n",
    " \n",
    "engine = create_engine(f\"mssql+pyodbc:///?odbc_connect={params}\")\n",
    "\n",
    " # Create engine\n",
    "\n",
    "customer = pd.read_csv(\"cleaned_us_customer.csv\")\n",
    "transactions=pd.read_csv(\"cleaned_transactions.csv\")\n",
    "orders=pd.read_csv(\"order_data 1.csv\")\n",
    "\n",
    "customer.to_sql('Customers', con=engine, if_exists='replace', index=False)\n",
    "transactions.to_sql('Transactions', con=engine, if_exists='replace', index=False)\n",
    "orders.to_sql('Orders', con=engine, if_exists='replace', index=False)\n",
    "\n"
   ]
  },
  {
   "cell_type": "markdown",
   "id": "9d992794",
   "metadata": {},
   "source": [
    "read data from sql server"
   ]
  },
  {
   "cell_type": "code",
   "execution_count": null,
   "id": "e4228f61",
   "metadata": {},
   "outputs": [],
   "source": [
    "read_customer_sql=pd.read_sql_table('Customers',con=engine)\n",
    "read_order_sql=pd.read_sql_table('Orders',con=engine)\n"
   ]
  },
  {
   "cell_type": "markdown",
   "id": "d1b52380",
   "metadata": {},
   "source": [
    "merge the required tables"
   ]
  },
  {
   "cell_type": "code",
   "execution_count": null,
   "id": "e801d8a4",
   "metadata": {},
   "outputs": [],
   "source": [
    "unified_view=pd.merge(read_customer_sql,read_order_sql,on='customer_id')"
   ]
  },
  {
   "cell_type": "markdown",
   "id": "b47d2e47",
   "metadata": {},
   "source": [
    "split the name into first name and last name, remove suffixes in lastname"
   ]
  },
  {
   "cell_type": "code",
   "execution_count": null,
   "id": "5dd26e84",
   "metadata": {},
   "outputs": [],
   "source": [
    "\n",
    "unified_view[['firstname','lastname']]=unified_view['name'].str.split(' ',n=1,expand=True)\n",
    "unified_view['lastname'] = unified_view['lastname'].str.split(' ').str[0]\n",
    " "
   ]
  },
  {
   "cell_type": "markdown",
   "id": "148bb8ed",
   "metadata": {},
   "source": [
    "mapping the loyalty status to numerical thresholds"
   ]
  },
  {
   "cell_type": "code",
   "execution_count": null,
   "id": "f2154774",
   "metadata": {},
   "outputs": [],
   "source": [
    "customer_classfication={'Silver':1,'Gold':2,'Bronze':0}\n",
    "unified_view['mapping_value']=unified_view['loyalty_status'].map(customer_classfication)"
   ]
  },
  {
   "cell_type": "code",
   "execution_count": null,
   "id": "65ea933d",
   "metadata": {},
   "outputs": [],
   "source": [
    "unified_view"
   ]
  },
  {
   "cell_type": "markdown",
   "id": "5242ebca",
   "metadata": {},
   "source": [
    "reorder the columns firstname and lastname"
   ]
  },
  {
   "cell_type": "code",
   "execution_count": null,
   "id": "ca6e64c5",
   "metadata": {},
   "outputs": [],
   "source": [
    "cols=unified_view.columns.tolist()\n",
    "cols.remove('firstname')\n",
    "cols.insert(2,'firstname')\n",
    "unified_view=unified_view[cols]\n",
    "print(unified_view)\n",
    "\n",
    "cols.remove('lastname')\n",
    "cols.insert(3,'lastname')\n",
    "unified_view=unified_view[cols]"
   ]
  },
  {
   "cell_type": "markdown",
   "id": "a4029717",
   "metadata": {},
   "source": [
    "upload to sqlserver"
   ]
  },
  {
   "cell_type": "code",
   "execution_count": null,
   "id": "6ed83281",
   "metadata": {},
   "outputs": [],
   "source": [
    "unified_view.to_sql('customers_unified_orders',con=engine,if_exists='replace',index=False)"
   ]
  },
  {
   "cell_type": "code",
   "execution_count": null,
   "id": "35cf46e5",
   "metadata": {},
   "outputs": [],
   "source": [
    "query=\"\"\"select * from customers_unified_orders\"\"\"\n",
    "inf=pd.read_sql_query(query,con=engine)\n",
    "inf.head()\n"
   ]
  },
  {
   "cell_type": "code",
   "execution_count": null,
   "id": "c26fe620",
   "metadata": {},
   "outputs": [],
   "source": []
  }
 ],
 "metadata": {
  "kernelspec": {
   "display_name": "venv",
   "language": "python",
   "name": "python3"
  },
  "language_info": {
   "codemirror_mode": {
    "name": "ipython",
    "version": 3
   },
   "file_extension": ".py",
   "mimetype": "text/x-python",
   "name": "python",
   "nbconvert_exporter": "python",
   "pygments_lexer": "ipython3",
   "version": "3.11.9"
  }
 },
 "nbformat": 4,
 "nbformat_minor": 5
}
